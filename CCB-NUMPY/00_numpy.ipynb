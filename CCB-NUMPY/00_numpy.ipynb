{
 "cells": [
  {
   "cell_type": "markdown",
   "metadata": {},
   "source": [
    "# Numpy\n",
    "- Theory about series\n",
    "    - Array\n",
    "    - Matrix\n",
    "- Shape\n",
    "- Subset\n",
    "- Manipulation\n",
    "- Aggregation functions\n",
    "- Vectorize\n",
    "\n",
    "\n"
   ]
  },
  {
   "cell_type": "code",
   "execution_count": null,
   "metadata": {},
   "outputs": [],
   "source": [
    "# Array \n",
    "a1D = np.array([1,2,3,4,5,6,7,8,9])\n",
    "\n",
    "# Matrix \n",
    "a1D = np.array(\n",
    "                [1,2],[1,2] ,\n",
    "                [1,2],[1,2]\n",
    "                \n",
    "                )"
   ]
  }
 ],
 "metadata": {
  "interpreter": {
   "hash": "0b108ceec282896a38f2aabf7292d323873d7baa19cd7c6d2b8d152a79a8493e"
  },
  "kernelspec": {
   "display_name": "Python 3.6.4 64-bit ('base': conda)",
   "name": "python3"
  },
  "language_info": {
   "codemirror_mode": {
    "name": "ipython",
    "version": 3
   },
   "file_extension": ".py",
   "mimetype": "text/x-python",
   "name": "python",
   "nbconvert_exporter": "python",
   "pygments_lexer": "ipython3",
   "version": "3.6.4"
  },
  "orig_nbformat": 4
 },
 "nbformat": 4,
 "nbformat_minor": 2
}
