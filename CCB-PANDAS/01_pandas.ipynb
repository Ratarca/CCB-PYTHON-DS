{
 "cells": [
  {
   "cell_type": "markdown",
   "metadata": {},
   "source": [
    "# Slicing Data frame\n",
    "- Slicing\n",
    "- Loc and iloc\n",
    "- Query\n",
    "\n",
    "# Modify columns\n",
    "- Apply\n",
    "- Map\n",
    "\n"
   ]
  },
  {
   "cell_type": "code",
   "execution_count": 2,
   "metadata": {},
   "outputs": [
    {
     "data": {
      "text/plain": [
       "Index(['Unnamed: 0', 'idx', 'cpf', 'sex', 'birthday', 'stateBorn', 'parents',\n",
       "       'education', 'income', 'risk', 'save_profile', 'email', 'name', 'phone',\n",
       "       'percentage_save'],\n",
       "      dtype='object')"
      ]
     },
     "execution_count": 2,
     "metadata": {},
     "output_type": "execute_result"
    }
   ],
   "source": [
    "import pandas as pd\n",
    "\n",
    "path = r\"C:\\Work\\CCB-PYTHON-DS\"\n",
    "file = \"\\\\databasenew_world_00.csv\"\n",
    "\n",
    "# Import file\n",
    "df = pd.read_csv(path+file)\n",
    "df.columns"
   ]
  },
  {
   "cell_type": "code",
   "execution_count": 3,
   "metadata": {},
   "outputs": [
    {
     "name": "stdout",
     "output_type": "stream",
     "text": [
      "   idx   cpf\n",
      "0    0  1452\n",
      "1    1   655\n",
      "2    2  2104\n",
      "3    3  2163\n",
      "4    4   751\n"
     ]
    },
    {
     "data": {
      "text/html": [
       "<div>\n",
       "<style scoped>\n",
       "    .dataframe tbody tr th:only-of-type {\n",
       "        vertical-align: middle;\n",
       "    }\n",
       "\n",
       "    .dataframe tbody tr th {\n",
       "        vertical-align: top;\n",
       "    }\n",
       "\n",
       "    .dataframe thead th {\n",
       "        text-align: right;\n",
       "    }\n",
       "</style>\n",
       "<table border=\"1\" class=\"dataframe\">\n",
       "  <thead>\n",
       "    <tr style=\"text-align: right;\">\n",
       "      <th></th>\n",
       "      <th>idx</th>\n",
       "      <th>cpf</th>\n",
       "    </tr>\n",
       "  </thead>\n",
       "  <tbody>\n",
       "    <tr>\n",
       "      <th>0</th>\n",
       "      <td>0</td>\n",
       "      <td>1452</td>\n",
       "    </tr>\n",
       "    <tr>\n",
       "      <th>1</th>\n",
       "      <td>1</td>\n",
       "      <td>655</td>\n",
       "    </tr>\n",
       "  </tbody>\n",
       "</table>\n",
       "</div>"
      ],
      "text/plain": [
       "   idx   cpf\n",
       "0    0  1452\n",
       "1    1   655"
      ]
     },
     "execution_count": 3,
     "metadata": {},
     "output_type": "execute_result"
    }
   ],
   "source": [
    "\"\"\"\n",
    "https://pandas.pydata.org/pandas-docs/stable/user_guide/indexing.html\n",
    "https://towardsdatascience.com/23-efficient-ways-of-subsetting-a-pandas-dataframe-6264b8000a77\n",
    "\"\"\"\n",
    "\n",
    "\n",
    "# Columns\n",
    "one_col = df['cpf']\n",
    "many_cols = df[['idx', 'cpf']]\n",
    "\n",
    "print( many_cols.head(n=5) )\n",
    "\n",
    "# Slice range\n",
    "col_slice = many_cols[0:2] \n",
    "\n",
    "col_slice.head()\n"
   ]
  },
  {
   "cell_type": "code",
   "execution_count": 64,
   "metadata": {},
   "outputs": [
    {
     "name": "stdout",
     "output_type": "stream",
     "text": [
      "           Unnamed: 0   idx   cpf  sex    birthday  parents      education  \\\n",
      "stateBorn                                                                    \n",
      "MG                  2     2  2104    0  17/10/1996        0        Nao fez   \n",
      "MG                  5     5  1854    1    8/8/1965        0      Doutorado   \n",
      "MG                 38    38  1831    1   18/2/1981        0    Fundamental   \n",
      "MG                 41    41   168    1   20/7/1979        1       Graducao   \n",
      "MG                 44    44   532    0   25/1/2009        1      Doutorado   \n",
      "...               ...   ...   ...  ...         ...      ...            ...   \n",
      "SP               3850  3850   335    0    7/9/1963        1    Fundamental   \n",
      "SP               3853  3853   825    0   9/11/1944        1  Pos Doutorado   \n",
      "SP               3858  3858  1605    1   16/6/2021        0      Doutorado   \n",
      "SP               3860  3860   483    0   18/7/1935        0            MBA   \n",
      "SP               3875  3875  1718    0   20/5/1971        0       Graducao   \n",
      "\n",
      "            income         risk  save_profile  email               name  \\\n",
      "stateBorn                                                                 \n",
      "MG         1161.68     Arrojado        0.4521      1                NaN   \n",
      "MG         7352.96     Moderado        0.1489      1     Antonieta Buda   \n",
      "MG         2458.40     Moderado        0.5365      1  Antonieta Froszen   \n",
      "MG         4000.00          NaN        0.1800      1   Gabriela Bardeen   \n",
      "MG         6400.00     Moderado        0.4809      1      Silvio Nazare   \n",
      "...            ...          ...           ...    ...                ...   \n",
      "SP         1600.00          NaN        0.3530      1                NaN   \n",
      "SP         7200.00          NaN        0.5949      1       Andre Asimov   \n",
      "SP         8248.32          NaN        0.2888      1      Irene Bardeen   \n",
      "SP         7915.20          NaN        0.6490      1     Silvio Targino   \n",
      "SP         6033.60  Conservador        0.5084      1                NaN   \n",
      "\n",
      "           phone  percentage_save  \n",
      "stateBorn                          \n",
      "MG             0         0.000389  \n",
      "MG             0         0.000020  \n",
      "MG             0         0.000218  \n",
      "MG             0         0.000045  \n",
      "MG             0         0.000075  \n",
      "...          ...              ...  \n",
      "SP             0         0.000221  \n",
      "SP             0         0.000083  \n",
      "SP             0         0.000035  \n",
      "SP             0         0.000082  \n",
      "SP             0         0.000084  \n",
      "\n",
      "[1302 rows x 14 columns]\n"
     ]
    }
   ],
   "source": [
    "\"\"\"\n",
    "Loc : df.loc[row,col]\n",
    "Iloc : df.iloc[row,col]\n",
    "\"\"\"\n",
    "# loc : simple / subset / filter ; by index\n",
    "col_df = df.loc[:, 'sex']\n",
    "many_cols = df.loc[:, ['cpf','name']]\n",
    "\n",
    "filter_col = df.loc[df['income'] < 5000 ]\n",
    "multi_filter_col = df.loc[(df['income'] < 5000) & (df['sex']== 0)]\n",
    "filter_lambda = df.loc[ lambda row: row['income']<1000 ]\n",
    "\n",
    "new_df = df.set_index('stateBorn') #Using label to filter!\n",
    "filter_label = new_df.loc[['MG','SP']]\n",
    "\n",
    "# iloc\n",
    "col_df2 = df.iloc[0] # iloc[:,0]\n",
    "specific_cell2 = df.iloc[0,0] # Linha 0 e coluna 0\n",
    "slice_df2 = df.iloc[0:3, 0:1] # Da linha zero até a linha 3 e Da coluna zero até a 1\n",
    "all_col2 = df.iloc[0:3, :] # Da linha 0 até a 3 e Todas(:) colunas\n",
    "\n",
    "print(filter_label)"
   ]
  },
  {
   "cell_type": "code",
   "execution_count": 75,
   "metadata": {},
   "outputs": [
    {
     "name": "stdout",
     "output_type": "stream",
     "text": [
      "      Unnamed: 0   idx   cpf  sex    birthday stateBorn  parents  \\\n",
      "48            48    48     7    1    2/6/2007        AC        1   \n",
      "81            81    81    50    0    2/4/1952        CE        1   \n",
      "166          166   166   123    0   20/5/1948        MG        1   \n",
      "211          211   211   172    0   1/11/1932        MG        1   \n",
      "219          219   219   177    1   4/11/2021        AC        1   \n",
      "...          ...   ...   ...  ...         ...       ...      ...   \n",
      "3871        3871  3871  2026    1   17/2/2009        AC        0   \n",
      "3872        3872  3872   402    0    7/9/1946        MG        1   \n",
      "3873        3873  3873   502    1   14/6/1990        CE        0   \n",
      "3874        3874  3874   683    0  16/12/1945        RJ        1   \n",
      "3875        3875  3875  1718    0   20/5/1971        SP        0   \n",
      "\n",
      "          education   income         risk  save_profile  email  \\\n",
      "48         Graducao  4000.00     Moderado        0.7809      1   \n",
      "81    Pos Doutorado  7200.00  Conservador        0.0151      1   \n",
      "166     Fundamental  1600.00          NaN        0.2848      1   \n",
      "211        Mestrado  5600.00     Arrojado        0.1663      1   \n",
      "219         Nao fez   800.00  Conservador        0.5606      1   \n",
      "...             ...      ...          ...           ...    ...   \n",
      "3871       Graducao  5803.60  Conservador        0.4509      1   \n",
      "3872       Graducao  4000.00     Moderado        0.4567      1   \n",
      "3873       Mestrado  9281.44     Arrojado        0.6574      1   \n",
      "3874    Fundamental  1600.00          NaN        0.0585      1   \n",
      "3875       Graducao  6033.60  Conservador        0.5084      1   \n",
      "\n",
      "                 name  phone  percentage_save  \n",
      "48        Ana Froszen      0         0.000195  \n",
      "81      Rafael Yamato      0         0.000002  \n",
      "166       Vlad Santos      0         0.000178  \n",
      "211      John Froszen      0         0.000030  \n",
      "219       Maria Assis      0         0.000701  \n",
      "...               ...    ...              ...  \n",
      "3871  Gabriela Bryant      0         0.000078  \n",
      "3872        Kobe Buda      0         0.000114  \n",
      "3873              NaN      0         0.000071  \n",
      "3874     Andre Santos      0         0.000037  \n",
      "3875              NaN      0         0.000084  \n",
      "\n",
      "[2630 rows x 15 columns]\n"
     ]
    }
   ],
   "source": [
    "# Query\n",
    "# https://pandas.pydata.org/docs/reference/api/pandas.DataFrame.query.html\n",
    "\n",
    "query_df = df.query('(sex == 0) & (2000 >= income <= 3500)')\n",
    "query_df_columns = df.query('cpf <= idx')\n",
    "\n",
    "print(query_df_columns)"
   ]
  },
  {
   "cell_type": "code",
   "execution_count": 76,
   "metadata": {},
   "outputs": [
    {
     "name": "stdout",
     "output_type": "stream",
     "text": [
      "0       118.4544\n",
      "1        72.0000\n",
      "2        11.6168\n",
      "3        48.0000\n",
      "4        86.3808\n",
      "          ...   \n",
      "3871     58.0360\n",
      "3872     40.0000\n",
      "3873     92.8144\n",
      "3874     16.0000\n",
      "3875     60.3360\n",
      "Name: income, Length: 3876, dtype: float64\n"
     ]
    }
   ],
   "source": [
    "# Apply : inject function along an axis of the {dataframe or series}\n",
    "\"\"\"\n",
    "axis 0 = rows is horizontal \n",
    "axis 1 = columns is vertical axis\n",
    "\"\"\"\n",
    "\n",
    "div_income = lambda x : x/100\n",
    "\n",
    "new_df = df['income'].apply(lambda x : x/100)\n",
    "print(new_df)"
   ]
  },
  {
   "cell_type": "code",
   "execution_count": 77,
   "metadata": {},
   "outputs": [
    {
     "name": "stdout",
     "output_type": "stream",
     "text": [
      "0       1184544.0\n",
      "1        720000.0\n",
      "2        116168.0\n",
      "3        480000.0\n",
      "4        863808.0\n",
      "          ...    \n",
      "3871     580360.0\n",
      "3872     400000.0\n",
      "3873     928144.0\n",
      "3874     160000.0\n",
      "3875     603360.0\n",
      "Name: income, Length: 3876, dtype: float64\n"
     ]
    }
   ],
   "source": [
    "# Map : inject function for each element {series}\n",
    "\n",
    "new_df = df['income'].map(lambda x : x*100 if (x != None) else x)\n",
    "\n",
    "print(new_df)"
   ]
  }
 ],
 "metadata": {
  "interpreter": {
   "hash": "0b108ceec282896a38f2aabf7292d323873d7baa19cd7c6d2b8d152a79a8493e"
  },
  "kernelspec": {
   "display_name": "Python 3.6.4 64-bit ('base': conda)",
   "name": "python3"
  },
  "language_info": {
   "codemirror_mode": {
    "name": "ipython",
    "version": 3
   },
   "file_extension": ".py",
   "mimetype": "text/x-python",
   "name": "python",
   "nbconvert_exporter": "python",
   "pygments_lexer": "ipython3",
   "version": "3.6.4"
  },
  "orig_nbformat": 4
 },
 "nbformat": 4,
 "nbformat_minor": 2
}
